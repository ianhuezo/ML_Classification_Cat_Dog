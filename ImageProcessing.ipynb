{
 "cells": [
  {
   "cell_type": "code",
   "execution_count": null,
   "metadata": {
    "collapsed": false
   },
   "outputs": [],
   "source": [
    "import PIL"
   ]
  },
  {
   "cell_type": "code",
   "execution_count": null,
   "metadata": {
    "collapsed": true
   },
   "outputs": [],
   "source": [
    "from PIL import Image"
   ]
  },
  {
   "cell_type": "code",
   "execution_count": null,
   "metadata": {
    "collapsed": true
   },
   "outputs": [],
   "source": [
    "import numpy as np"
   ]
  },
  {
   "cell_type": "code",
   "execution_count": null,
   "metadata": {
    "collapsed": true
   },
   "outputs": [],
   "source": [
    "import os"
   ]
  },
  {
   "cell_type": "code",
   "execution_count": null,
   "metadata": {
    "collapsed": true
   },
   "outputs": [],
   "source": [
    "import pickle"
   ]
  },
  {
   "cell_type": "markdown",
   "metadata": {},
   "source": [
    "# Create a process image class to classify images quickly"
   ]
  },
  {
   "cell_type": "code",
   "execution_count": null,
   "metadata": {
    "collapsed": false
   },
   "outputs": [],
   "source": [
    "class ProcessImage:\n",
    "    def __init__(self,image, color = 'L'):\n",
    "        self.image = image\n",
    "        self.color = color\n",
    "        \n",
    "    def pixelize_values(self,x, y):\n",
    "        #create the 128x128 pixel values with rgb or grayscale\n",
    "        with Image.open(self.image) as im:\n",
    "            im = im.resize((x, y))\n",
    "            im = im.convert(self.color)\n",
    "            if self.color == 'L':\n",
    "                impix = [im.getpixel((x_val, y_val)) for x_val in range(x) for y_val in range(y)]\n",
    "                impix = np.asarray(gray)\n",
    "                impix = np.reshape(gray,(1,x,y,1))\n",
    "            else:\n",
    "                impix = [im.getpixel((x_val, y_val)) for x_val in range(x) for y_val in range(y)]\n",
    "                impix = np.asarray(gray)\n",
    "                impix = np.reshape(gray,(1,x,y,3))\n",
    "            return impix\n",
    "\n",
    "    def visualize_resize(self, x, y):\n",
    "        #A quick visualization of the resized image\n",
    "        with Image.open(self.image) as im:\n",
    "            im = im.convert(self.color)\n",
    "            im = im.resize((x, y))\n",
    "            return im\n",
    "    \n",
    "class ProcessImages(ProcessImage):\n",
    "    #Processes multiple images at once quickly, inheriting the ProcessImage class\n",
    "    def __init__(self, images, color= 'L'):\n",
    "        self.images = images\n",
    "        self.color = color\n",
    "    \n",
    "    def pixelize(self, x, y):\n",
    "        vals_list = []\n",
    "        for image in self.images:\n",
    "            self.image = image\n",
    "            vals_list.append(self.pixelize_values(x, y))\n",
    "        arr = np.asarray(vals_list)\n",
    "        num_images = len(self.images)\n",
    "        \n",
    "        if(self.color == 'L'):\n",
    "            arr = np.asarray(vals_list)\n",
    "            return np.reshape(arr,(num_images,x,y,1))\n",
    "        else:\n",
    "            return np.reshape(arr,(num_images,x,y,3))\n",
    "    \n",
    "    def visualize_changes(self,x,y):\n",
    "        for image in self.images:\n",
    "            self.image = image\n",
    "            im = self.visualize_resize(x,y)\n",
    "            break\n",
    "        return im"
   ]
  },
  {
   "cell_type": "code",
   "execution_count": null,
   "metadata": {
    "collapsed": true
   },
   "outputs": [],
   "source": [
    "#How many cat training samples we have\n",
    "cats = ['train/cat.'] * 12500"
   ]
  },
  {
   "cell_type": "code",
   "execution_count": null,
   "metadata": {
    "collapsed": false
   },
   "outputs": [],
   "source": [
    "#how many dog training samples we have\n",
    "dogs = ['train/dog.'] * 12500"
   ]
  },
  {
   "cell_type": "code",
   "execution_count": null,
   "metadata": {
    "collapsed": true
   },
   "outputs": [],
   "source": [
    "#The amount of x,y rows/column pixels we have\n",
    "x = 128\n",
    "y = 128"
   ]
  },
  {
   "cell_type": "markdown",
   "metadata": {},
   "source": [
    "# Process the paths and create the data"
   ]
  },
  {
   "cell_type": "code",
   "execution_count": null,
   "metadata": {
    "collapsed": false
   },
   "outputs": [],
   "source": [
    "cat_paths = [(cat + str(index) + '.jpg') for index, cat in enumerate(cats)]"
   ]
  },
  {
   "cell_type": "code",
   "execution_count": null,
   "metadata": {
    "collapsed": true
   },
   "outputs": [],
   "source": [
    "dog_paths = [(dog + str(index) + '.jpg') for index, dog in enumerate(dogs)]"
   ]
  },
  {
   "cell_type": "code",
   "execution_count": null,
   "metadata": {
    "collapsed": false
   },
   "outputs": [],
   "source": [
    "dog_pi = ProcessImages(dog_paths, 'dog')"
   ]
  },
  {
   "cell_type": "code",
   "execution_count": null,
   "metadata": {
    "collapsed": false
   },
   "outputs": [],
   "source": [
    "cat_pi = ProcessImages(cat_paths, 'cat')"
   ]
  },
  {
   "cell_type": "code",
   "execution_count": null,
   "metadata": {
    "collapsed": false
   },
   "outputs": [],
   "source": [
    "#The pixel data from the dogs\n",
    "image_data_dog = dog_pi.pixelize(x, y)"
   ]
  },
  {
   "cell_type": "code",
   "execution_count": null,
   "metadata": {
    "collapsed": false
   },
   "outputs": [],
   "source": [
    "#The pixel data from the cats\n",
    "image_data_cat = cat_pi.pixelize(x, y)"
   ]
  },
  {
   "cell_type": "code",
   "execution_count": null,
   "metadata": {
    "collapsed": false
   },
   "outputs": [],
   "source": [
    "pickle.dump(image_data_cat, open(\"cat_data_test.pickle\",\"wb\"))"
   ]
  },
  {
   "cell_type": "code",
   "execution_count": null,
   "metadata": {
    "collapsed": true
   },
   "outputs": [],
   "source": [
    "pickle.dump(image_data_dog, open(\"dog_data_test.pickle\",\"wb\"))"
   ]
  },
  {
   "cell_type": "code",
   "execution_count": null,
   "metadata": {
    "collapsed": true
   },
   "outputs": [],
   "source": [
    "unknowns = ['test/test1/'] * 12500"
   ]
  },
  {
   "cell_type": "code",
   "execution_count": null,
   "metadata": {
    "collapsed": false
   },
   "outputs": [],
   "source": [
    "unknown_paths = [(unknown+ str(index + 1) + '.jpg') for index, unknown in enumerate(unknowns)]"
   ]
  },
  {
   "cell_type": "code",
   "execution_count": null,
   "metadata": {
    "collapsed": false
   },
   "outputs": [],
   "source": [
    "unknown_pi = ProcessImages(unknown_paths,'unknown')"
   ]
  },
  {
   "cell_type": "code",
   "execution_count": null,
   "metadata": {
    "collapsed": false
   },
   "outputs": [],
   "source": [
    "image_data_unknown = unknown_pi.pixelize(x,y)"
   ]
  },
  {
   "cell_type": "code",
   "execution_count": null,
   "metadata": {
    "collapsed": true
   },
   "outputs": [],
   "source": [
    "pickle.dump(image_data_unknown, open(\"test_data.pickle\",\"wb\"))"
   ]
  }
 ],
 "metadata": {
  "kernelspec": {
   "display_name": "Python 3",
   "language": "python",
   "name": "python3"
  },
  "language_info": {
   "codemirror_mode": {
    "name": "ipython",
    "version": 3
   },
   "file_extension": ".py",
   "mimetype": "text/x-python",
   "name": "python",
   "nbconvert_exporter": "python",
   "pygments_lexer": "ipython3",
   "version": "3.5.5"
  }
 },
 "nbformat": 4,
 "nbformat_minor": 0
}
