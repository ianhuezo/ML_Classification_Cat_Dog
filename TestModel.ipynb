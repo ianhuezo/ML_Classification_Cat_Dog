{
 "cells": [
  {
   "cell_type": "code",
   "execution_count": 6,
   "metadata": {
    "collapsed": false
   },
   "outputs": [],
   "source": [
    "import h5py\n",
    "from keras.models import load_model\n",
    "import numpy as np\n",
    "import pickle\n",
    "from keras.models import model_from_json\n",
    "import PIL\n",
    "from PIL import Image"
   ]
  },
  {
   "cell_type": "markdown",
   "metadata": {},
   "source": [
    "# Image process class from image processing notebook"
   ]
  },
  {
   "cell_type": "code",
   "execution_count": 7,
   "metadata": {
    "collapsed": true
   },
   "outputs": [],
   "source": [
    "class ProcessImage:\n",
    "    def __init__(self,image, color = 'L'):\n",
    "        self.image = image\n",
    "        self.color = color\n",
    "        \n",
    "    def pixelize_values(self,x, y):\n",
    "        with Image.open(self.image) as im:\n",
    "            im = im.resize((x, y))\n",
    "            im = im.convert(self.color)\n",
    "            gray = [im.getpixel((x_val, y_val)) for x_val in range(x) for y_val in range(y)]\n",
    "            gray = np.asarray(gray)\n",
    "            gray = np.reshape(gray,(1,x,y,1))\n",
    "            return gray\n",
    "\n",
    "    def visualize_resize(self, x, y):\n",
    "        with Image.open(self.image) as im:\n",
    "            im = im.convert(self.color)\n",
    "            im = im.resize((x, y))\n",
    "            return im"
   ]
  },
  {
   "cell_type": "markdown",
   "metadata": {},
   "source": [
    "# Load The model from json and h5 file"
   ]
  },
  {
   "cell_type": "code",
   "execution_count": 8,
   "metadata": {
    "collapsed": false
   },
   "outputs": [],
   "source": [
    "json_file = open('model_cat_dog.json', 'r')\n",
    "loaded_model_json = json_file.read()\n",
    "json_file.close()\n",
    "loaded_model = model_from_json(loaded_model_json)\n",
    "# load weights into new model\n",
    "loaded_model.load_weights(\"model_cat_dog.h5\")\n",
    "loaded_model.compile(loss='binary_crossentropy', optimizer='rmsprop', metrics=['accuracy'])"
   ]
  },
  {
   "cell_type": "code",
   "execution_count": 9,
   "metadata": {
    "collapsed": false,
    "scrolled": true
   },
   "outputs": [],
   "source": [
    "#added my own cat to test my model with\n",
    "lucy = ProcessImage('lucy.jpg').pixelize_values(128,128)"
   ]
  },
  {
   "cell_type": "markdown",
   "metadata": {},
   "source": [
    "# Predict if the image is a cat or dog"
   ]
  },
  {
   "cell_type": "code",
   "execution_count": 10,
   "metadata": {
    "collapsed": false,
    "scrolled": false
   },
   "outputs": [
    {
     "name": "stdout",
     "output_type": "stream",
     "text": [
      "Is that a cat? I am 0.974274 certain.\n"
     ]
    }
   ],
   "source": [
    "if loaded_model.predict(lucy).flatten()[0] > 0.7:\n",
    "    print(\"Is that a dog? I am %f certain.\" % (loaded_model.predict(lucy).flatten()[0]) )\n",
    "elif loaded_model.predict(lucy).flatten()[0] < 0.3:\n",
    "    print(\"Is that a cat? I am %f certain.\" % (loaded_model.predict(lucy).flatten()[1]))\n",
    "else:\n",
    "    print(\"I dont think that is a cat or dog\")"
   ]
  },
  {
   "cell_type": "code",
   "execution_count": null,
   "metadata": {
    "collapsed": true
   },
   "outputs": [],
   "source": []
  }
 ],
 "metadata": {
  "kernelspec": {
   "display_name": "Python 3",
   "language": "python",
   "name": "python3"
  },
  "language_info": {
   "codemirror_mode": {
    "name": "ipython",
    "version": 3
   },
   "file_extension": ".py",
   "mimetype": "text/x-python",
   "name": "python",
   "nbconvert_exporter": "python",
   "pygments_lexer": "ipython3",
   "version": "3.5.5"
  }
 },
 "nbformat": 4,
 "nbformat_minor": 0
}
